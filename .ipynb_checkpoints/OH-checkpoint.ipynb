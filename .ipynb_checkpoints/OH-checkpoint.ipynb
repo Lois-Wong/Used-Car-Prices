{
 "cells": [
  {
   "cell_type": "markdown",
   "id": "f53be57e-3299-4145-9601-45f2819ff255",
   "metadata": {},
   "source": [
    "### Module 11 "
   ]
  },
  {
   "cell_type": "code",
   "execution_count": 24,
   "id": "e2d97907-ce25-4ed5-b5ad-6e775d9b61f0",
   "metadata": {},
   "outputs": [],
   "source": [
    "import pandas as pd \n",
    "import numpy as np\n",
    "import matplotlib.pyplot as plt\n",
    "from numpy import cov\n",
    "\n",
    "from statsmodels.tsa.filters.filtertools import convolution_filter\n",
    "import statsmodels.graphics.tsaplots as tsaplots\n",
    "from statsmodels.tsa.seasonal import _extrapolate_trend\n",
    "import statsmodels.tsa.arima_process as arima_process \n",
    "from statsmodels.tsa.seasonal import seasonal_decompose\n",
    "from statsmodels.graphics.tsaplots import plot_pacf, plot_acf\n",
    "import statsmodels.api as sm\n",
    "from statsmodels.tsa.seasonal import seasonal_decompose, STL\n",
    "from statsmodels.tsa.forecasting.stl import STLForecast\n",
    "from statsmodels.tsa.arima.model import ARIMA\n",
    "from statsmodels.tsa.stattools import adfuller\n",
    "from sklearn.metrics import mean_squared_error\n",
    "\n",
    "from sklearn.experimental import enable_iterative_imputer  # noqa\n",
    "from sklearn.impute import IterativeImputer#simpleimputer\n",
    "\n",
    "from matplotlib.pyplot import figure\n",
    "from matplotlib import pyplot\n",
    "import matplotlib.pyplot as plt\n",
    "import seaborn as sns\n",
    "import plotly.express as px"
   ]
  },
  {
   "cell_type": "code",
   "execution_count": 5,
   "id": "76ad2d6a-86b9-49f3-aebb-7e9983a09f57",
   "metadata": {},
   "outputs": [],
   "source": [
    "vehicles = pd.read_csv(\"/Users/lois/Desktop/ML/Module 11/practical_application_II_starter/data/vehicles.csv\")"
   ]
  },
  {
   "cell_type": "code",
   "execution_count": 6,
   "id": "6369d4ef-f6ac-46e1-9be9-fdd0f6c2d992",
   "metadata": {},
   "outputs": [],
   "source": [
    "#dropping id and VIN\n",
    "vehicles.drop([\"id\", \"VIN\"], inplace = True, axis = 1)"
   ]
  },
  {
   "cell_type": "code",
   "execution_count": 14,
   "id": "b9482346-16a6-4ae0-95d4-6073c728648d",
   "metadata": {},
   "outputs": [],
   "source": [
    "#converting dtypes\n",
    "vehicles = vehicles.convert_dtypes()\n",
    "#vehicles.info()"
   ]
  },
  {
   "cell_type": "code",
   "execution_count": 16,
   "id": "8797a0ca-facd-4f24-9973-b2a5de942035",
   "metadata": {},
   "outputs": [
    {
     "data": {
      "text/plain": [
       "<StringArray>\n",
       "[<NA>, 'full-size', 'mid-size', 'compact', 'sub-compact']\n",
       "Length: 5, dtype: string"
      ]
     },
     "execution_count": 16,
     "metadata": {},
     "output_type": "execute_result"
    }
   ],
   "source": [
    "#One Hot Encoding for columns with low cardinality\n",
    "vehicles[\"size\"].unique()"
   ]
  },
  {
   "cell_type": "code",
   "execution_count": 17,
   "id": "8a463aac-75fa-4967-b817-a196b528659d",
   "metadata": {},
   "outputs": [],
   "source": [
    "#high cardinality: find some other way"
   ]
  },
  {
   "cell_type": "markdown",
   "id": "2ec13036-8321-4bba-bf11-649c1deb4c70",
   "metadata": {},
   "source": [
    "### Imputing Missing Data"
   ]
  },
  {
   "cell_type": "code",
   "execution_count": 18,
   "id": "78ad6cff-4fb3-48a6-be65-3059e51cbeaf",
   "metadata": {},
   "outputs": [
    {
     "ename": "ModuleNotFoundError",
     "evalue": "No module named 'sklearn.impute.SimpleImputer'",
     "output_type": "error",
     "traceback": [
      "\u001b[0;31m---------------------------------------------------------------------------\u001b[0m",
      "\u001b[0;31mModuleNotFoundError\u001b[0m                       Traceback (most recent call last)",
      "\u001b[0;32m/var/folders/yk/8dh2j2rj0hj52wcbymcsjwn40000gn/T/ipykernel_13029/2136764537.py\u001b[0m in \u001b[0;36m<module>\u001b[0;34m\u001b[0m\n\u001b[1;32m      1\u001b[0m \u001b[0;31m#packages: simple imputer and in sklearn\u001b[0m\u001b[0;34m\u001b[0m\u001b[0;34m\u001b[0m\u001b[0m\n\u001b[0;32m----> 2\u001b[0;31m \u001b[0;32mimport\u001b[0m \u001b[0msklearn\u001b[0m\u001b[0;34m.\u001b[0m\u001b[0mimpute\u001b[0m\u001b[0;34m.\u001b[0m\u001b[0mSimpleImputer\u001b[0m \u001b[0;31m#impute mean, median, etc.\u001b[0m\u001b[0;34m\u001b[0m\u001b[0;34m\u001b[0m\u001b[0m\n\u001b[0m",
      "\u001b[0;31mModuleNotFoundError\u001b[0m: No module named 'sklearn.impute.SimpleImputer'"
     ]
    }
   ],
   "source": [
    "#packages: simple imputer and in sklearn\n",
    "import sklearn.impute.SimpleImputer #impute mean, median, etc.\n"
   ]
  },
  {
   "cell_type": "code",
   "execution_count": null,
   "id": "c7c13179-da44-4561-a64e-9514212fcb64",
   "metadata": {},
   "outputs": [],
   "source": []
  },
  {
   "cell_type": "code",
   "execution_count": null,
   "id": "b16d670d-9afc-40e9-8db5-5427cc3fd6d3",
   "metadata": {},
   "outputs": [],
   "source": []
  },
  {
   "cell_type": "code",
   "execution_count": null,
   "id": "101d18f3-cc3a-4d5d-8cef-42e70558fca9",
   "metadata": {},
   "outputs": [],
   "source": []
  },
  {
   "cell_type": "code",
   "execution_count": null,
   "id": "d07d0d68-8560-4da8-9dc3-1538b350bb1f",
   "metadata": {},
   "outputs": [],
   "source": []
  }
 ],
 "metadata": {
  "kernelspec": {
   "display_name": "Python 3 (ipykernel)",
   "language": "python",
   "name": "python3"
  },
  "language_info": {
   "codemirror_mode": {
    "name": "ipython",
    "version": 3
   },
   "file_extension": ".py",
   "mimetype": "text/x-python",
   "name": "python",
   "nbconvert_exporter": "python",
   "pygments_lexer": "ipython3",
   "version": "3.9.7"
  }
 },
 "nbformat": 4,
 "nbformat_minor": 5
}
